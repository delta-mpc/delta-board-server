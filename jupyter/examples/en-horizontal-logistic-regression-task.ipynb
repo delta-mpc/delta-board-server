{
 "cells": [
  {
   "cell_type": "markdown",
   "id": "b14971e9",
   "metadata": {},
   "source": [
    "# An Example of the Horizontal Logistic Regression Task\n",
    "\n",
    "This is an example of running horizontal logistic regression task on multiple Delta Nodes.\n",
    "\n",
    "The data is [spector dataset](https://www.statsmodels.org/stable/datasets/generated/spector.html), experimental data on the effectiveness of the personalized system of instruction (PSI) program.\n",
    "The format of data is a csv file with 4 columns: Grade, TCUE, PSI and GPA. The task is to estimate student's GPA.\n",
    "\n",
    "This example could be executed in Deltaboard directly. <span style=\"color:#FF8F8F;font-weight:bold\">Before hitting the run button, the Delta Node API address should be modified according to the user's config, the instructions are explained in section 4 below.</span>"
   ]
  },
  {
   "cell_type": "markdown",
   "id": "dcef1746",
   "metadata": {},
   "source": [
    "## 1. Import the Required Packages\n",
    "\n",
    "We need to import Delta Task framework components from Python package ```delta-task``` including ```DeltaNode``` for Delta Node API connection, and the class  ```LogitTask``` for defination of the horizontal logistic regression task:"
   ]
  },
  {
   "cell_type": "code",
   "execution_count": null,
   "id": "604d372b",
   "metadata": {},
   "outputs": [],
   "source": [
    "import pandas\n",
    "import delta.dataset\n",
    "from delta import DeltaNode\n",
    "from delta.statsmodel import LogitTask"
   ]
  },
  {
   "cell_type": "markdown",
   "id": "88618f57",
   "metadata": {},
   "source": [
    "## 2. Define the Horizontal Logistic Regression Task\n",
    "\n",
    "The next step is to define our horizontal logistic regression task to analyze the data on multiple nodes.\n",
    "\n",
    "There're several parts in the PPC Task that need to be programmed by the developer:\n",
    "\n",
    "* ***Task Config***: We can make some basis task config in the ```super().__init__()``` method. The configurations involves task name (```name```), minimum client count(```min_clients```), maximum client count(```max_clients```),waiting timeout for calculation (```wait_timeout```)，and connection timeout for each step in the procedure(```connection_timeout```).\n",
    "\n",
    "  And we can start the zero-knownledge proof step to verify the convergence of result and the consistence of data after the task is finished. To start the zero-knownledge proof step, we need to set `enable_verify` to True in `super().__init__()` method. And also, we could control the timeout of zero-knownledge proof step by parameter `verify_timeout`. Now the zero-knownledge proof step consumes pretty long time and the default value of `verify_timeout` is 300 second. If timeout error occurs in the the zero-knownledge proof step, we should set `verify_timeout` to a bigger value.\n",
    "\n",
    "  ***We decide to disable the zero-knownledge proof step on online demo system due to the resouce restrictions. You should set `enable_verify` to False on online demo system.***\n",
    "\n",
    "* ***Dataset***: In the ```dataset``` method, you can specify the dataset for task. The return value is a dict of which key should be the name of dataset and value should be an instance of ```delta.dataset.DataFrame```; the key of dict should be corresponding to the parameters of the execute method. For detailed explanation of the dataset format, please refer to [this document](https://docs.deltampc.com/network-deployment/prepare-data).\n",
    "* ***Preprocess***: In the ```preprocess```, you need to preprocess the dataset, and finally return the x and y for the task. The input parameters should be the same with the keys of returned dict of ```dataset``` method. The returned x and y can be ```pandas.DataFrame``` or ```numpy.ndarray```, and y should be a 1-D array of data labels.\n",
    "* ***Options***: This method is optional. In the ```option``` method, you can specify some options for the logistic regression. The general options are ```method``` (fit method for logistic regression, only `newton` is available now) and `maxiter` (max iterations for fit). The newton method has some specific options, including `ord` (the norm ord for the gradient), `tol` (the stopping tolerance) and `ridge_factor` (the ridge regression factor for the hessian matrices). All these options have default values. You don't need to implment this method unless you have special needs.\n"
   ]
  },
  {
   "cell_type": "code",
   "execution_count": null,
   "id": "b3012646",
   "metadata": {},
   "outputs": [],
   "source": [
    "class SpectorLogitTask(LogitTask):\n",
    "    def __init__(\n",
    "        self,\n",
    "    ) -> None:\n",
    "        super().__init__(\n",
    "            name=\"spector_logit\",  # The task name which is used for displaying purpose.\n",
    "            min_clients=2,  # Minimum nodes required in each round, must be greater than 2.\n",
    "            max_clients=3,  # Maximum nodes allowed in each round, must be greater equal than min_clients.\n",
    "            wait_timeout=5,  # Timeout for calculation.\n",
    "            connection_timeout=5,  # Wait timeout for each step.\n",
    "            verify_timeout=500,  # Timeout for the final zero knownledge verification step\n",
    "            enable_verify=False  # whether to enable final zero knownledge verification step\n",
    "        )\n",
    "\n",
    "    def dataset(self):\n",
    "        return {\n",
    "            \"data\": delta.dataset.DataFrame(\"spector.csv\"),\n",
    "        }\n",
    "\n",
    "    def preprocess(self, data: pandas.DataFrame):\n",
    "        names = data.columns\n",
    "\n",
    "        y_name = names[3]\n",
    "        y = data[y_name].copy()  # type: ignore\n",
    "        x = data.drop([y_name], axis=1)\n",
    "        return x, y\n"
   ]
  },
  {
   "cell_type": "markdown",
   "id": "600ac7be-75ef-47a8-a82c-5aedf6095f33",
   "metadata": {},
   "source": [
    "## 3. Set the API Address of the Delta Node\n",
    "\n",
    "After defining the task details, we're ready to run the task on the Delta Nodes.\n",
    "\n",
    "Delta Task framework could send the task to Delta Node directly, as long as the Delta Node API address is specified.\n",
    "\n",
    "Here we use the Delta Node API provided by Deltaboard. Deltaboard provides a separate API address for each of its users, the tasks submitted via the API could be listed inside Deltaboard. The developer could also use API from Delta Node directly.\n",
    "\n",
    "Click \"Profiles\" on the sidebar of Deltaboard, copy the API Address in Deltaboard API section, and paste it here:"
   ]
  },
  {
   "cell_type": "code",
   "execution_count": null,
   "id": "c1d30aac-f019-4544-81f9-0af16ea4a313",
   "metadata": {},
   "outputs": [],
   "source": [
    "DELTA_NODE_API = \"http://127.0.0.1:6704\""
   ]
  },
  {
   "cell_type": "markdown",
   "id": "133ad5fa",
   "metadata": {},
   "source": [
    "## 4. Run the PPC Task\n",
    "\n",
    "Finally we can start the task:"
   ]
  },
  {
   "cell_type": "code",
   "execution_count": null,
   "id": "db1d1c2c",
   "metadata": {},
   "outputs": [],
   "source": [
    "task = SpectorLogitTask().build()\n",
    "delta_node = DeltaNode(DELTA_NODE_API)\n",
    "delta_node.create_task(task)"
   ]
  },
  {
   "cell_type": "markdown",
   "id": "9994ef7e",
   "metadata": {},
   "source": [
    "## 5. Check the Running Status\n",
    "\n",
    "After clicking the run button, some logs will be print out showing the task is submitted to the Delta Node successfully.\n",
    "\n",
    "To see the task execution details, go to \"My Tasks\" on the sidebar of Deltaboard, the task should be listed.\n",
    "Click the item to view the execution logs."
   ]
  }
 ],
 "metadata": {
  "kernelspec": {
   "display_name": "Python 3 (ipykernel)",
   "language": "python",
   "name": "python3"
  },
  "language_info": {
   "codemirror_mode": {
    "name": "ipython",
    "version": 3
   },
   "file_extension": ".py",
   "mimetype": "text/x-python",
   "name": "python",
   "nbconvert_exporter": "python",
   "pygments_lexer": "ipython3",
   "version": "3.8.10"
  }
 },
 "nbformat": 4,
 "nbformat_minor": 5
}
