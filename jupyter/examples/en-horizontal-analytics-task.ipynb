{
 "cells": [
  {
   "cell_type": "markdown",
   "id": "b14971e9",
   "metadata": {},
   "source": [
    "# An Example of the Horizontal Federated Analytics Task\n",
    "\n",
    "This is an example of running horizontal federated analytics Delta Task on multiple Delta Nodes.\n",
    "\n",
    "The data is a csv file distributed on several nodes, and the file content is the wage of  all employee in the company.\n",
    "And the task is to calculate the average wage of these companies.\n",
    "\n",
    "\n",
    "This example could be executed in Deltaboard directly. <span style=\"color:#FF8F8F;font-weight:bold\">Before hitting the run button, the Delta Node API address should be modified according to the user's config, the instructions are explained in section 4 below.</span>"
   ]
  },
  {
   "cell_type": "markdown",
   "id": "dcef1746",
   "metadata": {},
   "source": [
    "## 1. Import the Required Packages\n",
    "\n",
    "We need to import Delta Task framework components from Python package ```delta-task``` including ```DeltaNode``` for Delta Node API connection, and the ```HorizontalAnalytics``` for defination of the horizontal analytics task:"
   ]
  },
  {
   "cell_type": "code",
   "execution_count": null,
   "id": "604d372b",
   "metadata": {},
   "outputs": [],
   "source": [
    "from delta import pandas as pd\n",
    "from delta.task import HorizontalAnalytics\n",
    "from delta.delta_node import DeltaNode\n",
    "import delta.dataset\n",
    "\n",
    "from typing import Dict"
   ]
  },
  {
   "cell_type": "markdown",
   "id": "88618f57",
   "metadata": {},
   "source": [
    "## 2. Define the Horizontal Federated Analytics Task\n",
    "\n",
    "The next step is to define our horizontal analytics learning task to analyze the data on multiple nodes.\n",
    "\n",
    "There're several parts in the PPC Task that need to be programmed by the developer:\n",
    "\n",
    "* ***Task Config***: We can make some basis task config in the ```super().__init__()``` method. The configurations involves task name (```name```), minimum client count(```min_clients```), maximum client count(```max_clients```),waiting timeout for calculation (```wait_timeout```)，and connection timeout for each step in the procedure(```connection_timeout```).\n",
    "* ***Dataset***: In the ```dataset``` method, you can specify the dataset for task. The return value is a dict of which key should be the name of dataset and value should be an instance of ```delta.dataset.DataFrame```; the key of dict should be corresponding to the parameters of the execute method. For detailed explanation of the dataset format, please refer to [this document](https://docs.deltampc.com/network-deployment/prepare-data).\n",
    "* ***Analytics implementation***: We need to implement the analytics process in the execute method. The input parameters should be the same with the keys of returned dict of ```dataset``` method. Now the type of all parameter can only be ```delta.pandas.DataFrame```. ```delta.pandas.DataFrame``` is similar with ```pandas.DataFrame```,  now it support operator ```+,-,*,/,//,%```, and method```all, any, count, sum, mean, std, var, sem```.\n"
   ]
  },
  {
   "cell_type": "code",
   "execution_count": null,
   "id": "b3012646",
   "metadata": {},
   "outputs": [],
   "source": [
    "class WageAvg(HorizontalAnalytics):\n",
    "    def __init__(self) -> None:\n",
    "        super().__init__(\n",
    "            name=\"wage_avg\",  # The task name which is used for displaying purpose.\n",
    "            min_clients=2,  # Minimum nodes required in each round, must be greater than 2.\n",
    "            max_clients=3,  # Maximum nodes allowed in each round, must be greater equal than min_clients.\n",
    "            wait_timeout=5,  # Timeout for calculation.\n",
    "            connection_timeout=5,  # Wait timeout for each step.\n",
    "        )\n",
    "\n",
    "    def dataset(self) -> Dict[str, delta.dataset.DataFrame]:\n",
    "        \"\"\"\n",
    "        Define the data used for analytics.\n",
    "        return: a dict of which key is the dataset name and value is an instance of delta.dataset.DataFrame\n",
    "        \"\"\"\n",
    "        return {\n",
    "            \"wages\": delta.dataset.DataFrame(\"wages.csv\")\n",
    "        }\n",
    "\n",
    "    def execute(self, wages: pd.DataFrame):\n",
    "        \"\"\"\n",
    "        Implementation of analytics.\n",
    "        input should be the same with keys of returned dict of dataset method.\n",
    "        \"\"\"\n",
    "        return wages.mean()\n"
   ]
  },
  {
   "cell_type": "markdown",
   "id": "600ac7be-75ef-47a8-a82c-5aedf6095f33",
   "metadata": {},
   "source": [
    "## 3. Set the API Address of the Delta Node\n",
    "\n",
    "After defining the task details, we're ready to run the task on the Delta Nodes.\n",
    "\n",
    "Delta Task framework could send the task to Delta Node directly, as long as the Delta Node API address is specified.\n",
    "\n",
    "Here we use the Delta Node API provided by Deltaboard. Deltaboard provides a separate API address for each of its users, the tasks submitted via the API could be listed inside Deltaboard. The developer could also use API from Delta Node directly.\n",
    "\n",
    "Click \"Profiles\" on the sidebar of Deltaboard, copy the API Address in Deltaboard API section, and paste it here:"
   ]
  },
  {
   "cell_type": "code",
   "execution_count": null,
   "id": "c1d30aac-f019-4544-81f9-0af16ea4a313",
   "metadata": {},
   "outputs": [],
   "source": [
    "DELTA_NODE_API = \"http://127.0.0.1:6704\""
   ]
  },
  {
   "cell_type": "markdown",
   "id": "133ad5fa",
   "metadata": {},
   "source": [
    "## 4. Run the PPC Task\n",
    "\n",
    "Finally we can start the task:"
   ]
  },
  {
   "cell_type": "code",
   "execution_count": null,
   "id": "db1d1c2c",
   "metadata": {},
   "outputs": [],
   "source": [
    "task = WageAvg().build()\n",
    "delta_node = DeltaNode(DELTA_NODE_API)\n",
    "delta_node.create_task(task)"
   ]
  },
  {
   "cell_type": "markdown",
   "id": "9994ef7e",
   "metadata": {},
   "source": [
    "## 5. Check the Running Status\n",
    "\n",
    "After clicking the run button, some logs will be print out showing the task is submitted to the Delta Node successfully.\n",
    "\n",
    "To see the task execution details, go to \"My Tasks\" on the sidebar of Deltaboard, the task should be listed.\n",
    "Click the item to view the execution logs."
   ]
  }
 ],
 "metadata": {
  "kernelspec": {
   "display_name": "Python 3 (ipykernel)",
   "language": "python",
   "name": "python3"
  },
  "language_info": {
   "codemirror_mode": {
    "name": "ipython",
    "version": 3
   },
   "file_extension": ".py",
   "mimetype": "text/x-python",
   "name": "python",
   "nbconvert_exporter": "python",
   "pygments_lexer": "ipython3",
   "version": "3.8.10"
  }
 },
 "nbformat": 4,
 "nbformat_minor": 5
}
