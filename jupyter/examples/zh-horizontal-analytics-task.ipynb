{
 "cells": [
  {
   "cell_type": "markdown",
   "id": "b14971e9",
   "metadata": {},
   "source": [
    "# 横向联邦统计任务示例\n",
    "\n",
    "这是一个使用Delta框架编写的横向联邦统计的任务示例。\n",
    "\n",
    "数据是分布在各个节点上的csv文件，文件内容是公司内所有员工的工资。任务是计算这些公司的平均工资。\n",
    "\n",
    "本示例可以直接在Deltaboard中执行并查看结果。<span style=\"color:#FF8F8F;font-weight:bold\">在点击执行之前，需要修改一下个人的Deltaboard API的地址，具体请看下面第4节的说明。</span>\n"
   ]
  },
  {
   "cell_type": "markdown",
   "id": "dcef1746",
   "metadata": {},
   "source": [
    "## 1. 引入需要的包\n",
    "\n",
    "我们需要```delta-task```的包中，引入Delta框架的内容，包括```DeltaNode```节点，用于调用API发送任务，以及用于横向联邦统计任务```HorizontalAnalytics```。"
   ]
  },
  {
   "cell_type": "code",
   "execution_count": null,
   "id": "604d372b",
   "metadata": {},
   "outputs": [],
   "source": [
    "from delta import pandas as pd\n",
    "from delta.task import HorizontalAnalytics\n",
    "from delta.delta_node import DeltaNode\n",
    "import delta.dataset\n",
    "\n",
    "from typing import Dict"
   ]
  },
  {
   "cell_type": "markdown",
   "id": "88618f57",
   "metadata": {},
   "source": [
    "## 2. 定义隐私计算任务\n",
    "\n",
    "然后可以开始定义我们的横向统计任务了，用横向联邦统计的方式，在多节点上统计我们想要的数据。\n",
    "\n",
    "在定义横向联邦统计任务时，有几部分内容是需要用户自己定义的：\n",
    "\n",
    "* ***任务配置***: 我们需要在 ```super().__init__()``` 方法中对任务进行配置。 这些配置项包括任务名称（```name```），所需的最少客户端数（```min_clients```），最大客户端数（```max_clients```），等待超时时间（```wait_timeout```，用来控制一轮计算的超时时间），以及连接超时时间（```connection_timeout```，用来控制流程中每个阶段的超时时间）。\n",
    "* ***数据集***: 我们需要在```dataset```方法中定义任务所需要的数据集。 该方法返回一个字典，键是数据集的名称，需要与execute方法的参数名对应；对应的值是```delta.dataset.DataFrame```实例， 其参数```dataset```代表所需数据集的名称。关于数据集格式的具体细节，请参考[这篇文章](https://docs.deltampc.com/network-deployment/prepare-data)。\n",
    "* ***统计的逻辑***: 我们需要在execute方法中实现所有统计的逻辑。execute方法的输入需要与```dataset```方法的返回值对应，即一个输入形参，对应```dataset```返回的字典中的一项。目前参数类型只支持```delta.pandas.DataFrame```这一种。```delta.pandas.DataFrame```的方法类似```pandas.DataFrame```，目前支持```+,-,*,/,//,%```等操作符，以及```all, any, count, sum, mean, std, var, sem```这些方法。\n"
   ]
  },
  {
   "cell_type": "code",
   "execution_count": null,
   "id": "b3012646",
   "metadata": {},
   "outputs": [],
   "source": [
    "class WageAvg(HorizontalAnalytics):\n",
    "    def __init__(self) -> None:\n",
    "        super().__init__(\n",
    "            name=\"wage_avg\",  # 任务名称，用于在Deltaboard中的展示\n",
    "            min_clients=2,  # 算法所需的最少客户端数，至少为2\n",
    "            max_clients=3,  # 算法所支持的最大客户端数，必须大雨等于min_clients\n",
    "            wait_timeout=5,  # 等待超时时间，用来控制一轮计算的超时时间\n",
    "            connection_timeout=5,  # 连接超时时间，用来控制流程中每个阶段的超时时间\n",
    "        )\n",
    "\n",
    "    def dataset(self) -> Dict[str, delta.dataset.DataFrame]:\n",
    "        \"\"\"\n",
    "        定义任务所需的数据。\n",
    "        return: 字典，键是数据的名字，需要与execute方法中的参数名称对应；值是一个delta.dataset.DataFrame实例。\n",
    "        \"\"\"\n",
    "        return {\n",
    "            \"wages\": delta.dataset.DataFrame(\"wages.csv\")\n",
    "        }\n",
    "\n",
    "    def execute(self, wages: pd.DataFrame):\n",
    "        \"\"\"\n",
    "        实现具体的统计逻辑。\n",
    "        输入与dataset方法的返回值对应\n",
    "        \"\"\"\n",
    "        return wages.mean()\n"
   ]
  },
  {
   "cell_type": "markdown",
   "id": "600ac7be-75ef-47a8-a82c-5aedf6095f33",
   "metadata": {},
   "source": [
    "## 4. 指定执行任务用的Delta Node的API\n",
    "\n",
    "定义好了任务，我们就可以开始准备在Delta Node上执行任务了。\n",
    "\n",
    "Delta Task框架可以直接调用Delta Node API发送任务到Delta Node开始执行，只要在任务执行时指定Delta Node的API地址即可。\n",
    "\n",
    "Deltaboard提供了对于Delta Node的API的封装，为每个用户提供了一个独立的API地址，支持多人同时使用同一个Delta Node，并且能够在Deltaboard中管理自己提交的任务。\n",
    "在这里，我们使用Deltaboard提供的API来执行任务。如果用户自己搭建了Delta Node，也可以直接使用Delta Node的API。\n",
    "\n",
    "在左侧导航栏中进入“个人中心”，在Deltaboard API中，复制自己的API地址，并粘贴到下面的代码中："
   ]
  },
  {
   "cell_type": "code",
   "execution_count": null,
   "id": "c1d30aac-f019-4544-81f9-0af16ea4a313",
   "metadata": {},
   "outputs": [],
   "source": [
    "DELTA_NODE_API = \"http://127.0.0.1:6704\""
   ]
  },
  {
   "cell_type": "markdown",
   "id": "133ad5fa",
   "metadata": {},
   "source": [
    "## 5. 执行隐私计算任务\n",
    "\n",
    "接下来我们可以开始运行这个模型了："
   ]
  },
  {
   "cell_type": "code",
   "execution_count": null,
   "id": "db1d1c2c",
   "metadata": {},
   "outputs": [],
   "source": [
    "task = WageAvg().build()\n",
    "delta_node = DeltaNode(DELTA_NODE_API)\n",
    "delta_node.create_task(task)"
   ]
  },
  {
   "cell_type": "markdown",
   "id": "9994ef7e",
   "metadata": {},
   "source": [
    "## 6. 查看执行状态\n",
    "点击执行后，可以从输出的日志看出，任务已经提交到了Delta Node的节点上。\n",
    "\n",
    "接下来，可以从左侧的导航栏中，前往“任务列表”，找到刚刚提交的任务，点击进去查看具体的执行日志了。"
   ]
  }
 ],
 "metadata": {
  "kernelspec": {
   "display_name": "Python 3 (ipykernel)",
   "language": "python",
   "name": "python3"
  },
  "language_info": {
   "codemirror_mode": {
    "name": "ipython",
    "version": 3
   },
   "file_extension": ".py",
   "mimetype": "text/x-python",
   "name": "python",
   "nbconvert_exporter": "python",
   "pygments_lexer": "ipython3",
   "version": "3.8.10"
  }
 },
 "nbformat": 4,
 "nbformat_minor": 5
}
